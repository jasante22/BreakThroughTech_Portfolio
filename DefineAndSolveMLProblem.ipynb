{
 "cells": [
  {
   "cell_type": "markdown",
   "metadata": {},
   "source": [
    "# Lab 8: Define and Solve an ML Problem of Your Choosing"
   ]
  },
  {
   "cell_type": "code",
   "execution_count": 1,
   "metadata": {},
   "outputs": [],
   "source": [
    "import pandas as pd\n",
    "import numpy as np\n",
    "import os \n",
    "import matplotlib.pyplot as plt\n",
    "import seaborn as sns"
   ]
  },
  {
   "cell_type": "markdown",
   "metadata": {},
   "source": [
    "In this lab assignment, you will follow the machine learning life cycle and implement a model to solve a machine learning problem of your choosing. You will select a data set and choose a predictive problem that the data set supports.  You will then inspect the data with your problem in mind and begin to formulate a  project plan. You will then implement the machine learning project plan. \n",
    "\n",
    "You will complete the following tasks:\n",
    "\n",
    "1. Build Your DataFrame\n",
    "2. Define Your ML Problem\n",
    "3. Perform exploratory data analysis to understand your data.\n",
    "4. Define Your Project Plan\n",
    "5. Implement Your Project Plan:\n",
    "    * Prepare your data for your model.\n",
    "    * Fit your model to the training data and evaluate your model.\n",
    "    * Improve your model's performance."
   ]
  },
  {
   "cell_type": "markdown",
   "metadata": {},
   "source": [
    "## Part 1: Build Your DataFrame\n",
    "\n",
    "You will have the option to choose one of four data sets that you have worked with in this program:\n",
    "\n",
    "* The \"census\" data set that contains Census information from 1994: `censusData.csv`\n",
    "* Airbnb NYC \"listings\" data set: `airbnbListingsData.csv`\n",
    "* World Happiness Report (WHR) data set: `WHR2018Chapter2OnlineData.csv`\n",
    "* Book Review data set: `bookReviewsData.csv`\n",
    "\n",
    "Note that these are variations of the data sets that you have worked with in this program. For example, some do not include some of the preprocessing necessary for specific models. \n",
    "\n",
    "#### Load a Data Set and Save it as a Pandas DataFrame\n",
    "\n",
    "The code cell below contains filenames (path + filename) for each of the four data sets available to you.\n",
    "\n",
    "<b>Task:</b> In the code cell below, use the same method you have been using to load the data using `pd.read_csv()` and save it to DataFrame `df`. \n",
    "\n",
    "You can load each file as a new DataFrame to inspect the data before choosing your data set."
   ]
  },
  {
   "cell_type": "code",
   "execution_count": 2,
   "metadata": {},
   "outputs": [
    {
     "data": {
      "text/html": [
       "<div>\n",
       "<style scoped>\n",
       "    .dataframe tbody tr th:only-of-type {\n",
       "        vertical-align: middle;\n",
       "    }\n",
       "\n",
       "    .dataframe tbody tr th {\n",
       "        vertical-align: top;\n",
       "    }\n",
       "\n",
       "    .dataframe thead th {\n",
       "        text-align: right;\n",
       "    }\n",
       "</style>\n",
       "<table border=\"1\" class=\"dataframe\">\n",
       "  <thead>\n",
       "    <tr style=\"text-align: right;\">\n",
       "      <th></th>\n",
       "      <th>name</th>\n",
       "      <th>description</th>\n",
       "      <th>neighborhood_overview</th>\n",
       "      <th>host_name</th>\n",
       "      <th>host_location</th>\n",
       "      <th>host_about</th>\n",
       "      <th>host_response_rate</th>\n",
       "      <th>host_acceptance_rate</th>\n",
       "      <th>host_is_superhost</th>\n",
       "      <th>host_listings_count</th>\n",
       "      <th>...</th>\n",
       "      <th>review_scores_communication</th>\n",
       "      <th>review_scores_location</th>\n",
       "      <th>review_scores_value</th>\n",
       "      <th>instant_bookable</th>\n",
       "      <th>calculated_host_listings_count</th>\n",
       "      <th>calculated_host_listings_count_entire_homes</th>\n",
       "      <th>calculated_host_listings_count_private_rooms</th>\n",
       "      <th>calculated_host_listings_count_shared_rooms</th>\n",
       "      <th>reviews_per_month</th>\n",
       "      <th>n_host_verifications</th>\n",
       "    </tr>\n",
       "  </thead>\n",
       "  <tbody>\n",
       "    <tr>\n",
       "      <th>0</th>\n",
       "      <td>Skylit Midtown Castle</td>\n",
       "      <td>Beautiful, spacious skylit studio in the heart...</td>\n",
       "      <td>Centrally located in the heart of Manhattan ju...</td>\n",
       "      <td>Jennifer</td>\n",
       "      <td>New York, New York, United States</td>\n",
       "      <td>A New Yorker since 2000! My passion is creatin...</td>\n",
       "      <td>0.80</td>\n",
       "      <td>0.17</td>\n",
       "      <td>True</td>\n",
       "      <td>8.0</td>\n",
       "      <td>...</td>\n",
       "      <td>4.79</td>\n",
       "      <td>4.86</td>\n",
       "      <td>4.41</td>\n",
       "      <td>False</td>\n",
       "      <td>3</td>\n",
       "      <td>3</td>\n",
       "      <td>0</td>\n",
       "      <td>0</td>\n",
       "      <td>0.33</td>\n",
       "      <td>9</td>\n",
       "    </tr>\n",
       "    <tr>\n",
       "      <th>1</th>\n",
       "      <td>Whole flr w/private bdrm, bath &amp; kitchen(pls r...</td>\n",
       "      <td>Enjoy 500 s.f. top floor in 1899 brownstone, w...</td>\n",
       "      <td>Just the right mix of urban center and local n...</td>\n",
       "      <td>LisaRoxanne</td>\n",
       "      <td>New York, New York, United States</td>\n",
       "      <td>Laid-back Native New Yorker (formerly bi-coast...</td>\n",
       "      <td>0.09</td>\n",
       "      <td>0.69</td>\n",
       "      <td>True</td>\n",
       "      <td>1.0</td>\n",
       "      <td>...</td>\n",
       "      <td>4.80</td>\n",
       "      <td>4.71</td>\n",
       "      <td>4.64</td>\n",
       "      <td>False</td>\n",
       "      <td>1</td>\n",
       "      <td>1</td>\n",
       "      <td>0</td>\n",
       "      <td>0</td>\n",
       "      <td>4.86</td>\n",
       "      <td>6</td>\n",
       "    </tr>\n",
       "    <tr>\n",
       "      <th>2</th>\n",
       "      <td>Spacious Brooklyn Duplex, Patio + Garden</td>\n",
       "      <td>We welcome you to stay in our lovely 2 br dupl...</td>\n",
       "      <td>NaN</td>\n",
       "      <td>Rebecca</td>\n",
       "      <td>Brooklyn, New York, United States</td>\n",
       "      <td>Rebecca is an artist/designer, and Henoch is i...</td>\n",
       "      <td>1.00</td>\n",
       "      <td>0.25</td>\n",
       "      <td>True</td>\n",
       "      <td>1.0</td>\n",
       "      <td>...</td>\n",
       "      <td>5.00</td>\n",
       "      <td>4.50</td>\n",
       "      <td>5.00</td>\n",
       "      <td>False</td>\n",
       "      <td>1</td>\n",
       "      <td>1</td>\n",
       "      <td>0</td>\n",
       "      <td>0</td>\n",
       "      <td>0.02</td>\n",
       "      <td>3</td>\n",
       "    </tr>\n",
       "    <tr>\n",
       "      <th>3</th>\n",
       "      <td>Large Furnished Room Near B'way</td>\n",
       "      <td>Please don’t expect the luxury here just a bas...</td>\n",
       "      <td>Theater district, many restaurants around here.</td>\n",
       "      <td>Shunichi</td>\n",
       "      <td>New York, New York, United States</td>\n",
       "      <td>I used to work for a financial industry but no...</td>\n",
       "      <td>1.00</td>\n",
       "      <td>1.00</td>\n",
       "      <td>True</td>\n",
       "      <td>1.0</td>\n",
       "      <td>...</td>\n",
       "      <td>4.42</td>\n",
       "      <td>4.87</td>\n",
       "      <td>4.36</td>\n",
       "      <td>False</td>\n",
       "      <td>1</td>\n",
       "      <td>0</td>\n",
       "      <td>1</td>\n",
       "      <td>0</td>\n",
       "      <td>3.68</td>\n",
       "      <td>4</td>\n",
       "    </tr>\n",
       "    <tr>\n",
       "      <th>4</th>\n",
       "      <td>Cozy Clean Guest Room - Family Apt</td>\n",
       "      <td>Our best guests are seeking a safe, clean, spa...</td>\n",
       "      <td>Our neighborhood is full of restaurants and ca...</td>\n",
       "      <td>MaryEllen</td>\n",
       "      <td>New York, New York, United States</td>\n",
       "      <td>Welcome to family life with my oldest two away...</td>\n",
       "      <td>NaN</td>\n",
       "      <td>NaN</td>\n",
       "      <td>True</td>\n",
       "      <td>1.0</td>\n",
       "      <td>...</td>\n",
       "      <td>4.95</td>\n",
       "      <td>4.94</td>\n",
       "      <td>4.92</td>\n",
       "      <td>False</td>\n",
       "      <td>1</td>\n",
       "      <td>0</td>\n",
       "      <td>1</td>\n",
       "      <td>0</td>\n",
       "      <td>0.87</td>\n",
       "      <td>7</td>\n",
       "    </tr>\n",
       "  </tbody>\n",
       "</table>\n",
       "<p>5 rows × 50 columns</p>\n",
       "</div>"
      ],
      "text/plain": [
       "                                                name  \\\n",
       "0                              Skylit Midtown Castle   \n",
       "1  Whole flr w/private bdrm, bath & kitchen(pls r...   \n",
       "2           Spacious Brooklyn Duplex, Patio + Garden   \n",
       "3                   Large Furnished Room Near B'way　   \n",
       "4                 Cozy Clean Guest Room - Family Apt   \n",
       "\n",
       "                                         description  \\\n",
       "0  Beautiful, spacious skylit studio in the heart...   \n",
       "1  Enjoy 500 s.f. top floor in 1899 brownstone, w...   \n",
       "2  We welcome you to stay in our lovely 2 br dupl...   \n",
       "3  Please don’t expect the luxury here just a bas...   \n",
       "4  Our best guests are seeking a safe, clean, spa...   \n",
       "\n",
       "                               neighborhood_overview    host_name  \\\n",
       "0  Centrally located in the heart of Manhattan ju...     Jennifer   \n",
       "1  Just the right mix of urban center and local n...  LisaRoxanne   \n",
       "2                                                NaN      Rebecca   \n",
       "3    Theater district, many restaurants around here.     Shunichi   \n",
       "4  Our neighborhood is full of restaurants and ca...    MaryEllen   \n",
       "\n",
       "                       host_location  \\\n",
       "0  New York, New York, United States   \n",
       "1  New York, New York, United States   \n",
       "2  Brooklyn, New York, United States   \n",
       "3  New York, New York, United States   \n",
       "4  New York, New York, United States   \n",
       "\n",
       "                                          host_about  host_response_rate  \\\n",
       "0  A New Yorker since 2000! My passion is creatin...                0.80   \n",
       "1  Laid-back Native New Yorker (formerly bi-coast...                0.09   \n",
       "2  Rebecca is an artist/designer, and Henoch is i...                1.00   \n",
       "3  I used to work for a financial industry but no...                1.00   \n",
       "4  Welcome to family life with my oldest two away...                 NaN   \n",
       "\n",
       "   host_acceptance_rate  host_is_superhost  host_listings_count  ...  \\\n",
       "0                  0.17               True                  8.0  ...   \n",
       "1                  0.69               True                  1.0  ...   \n",
       "2                  0.25               True                  1.0  ...   \n",
       "3                  1.00               True                  1.0  ...   \n",
       "4                   NaN               True                  1.0  ...   \n",
       "\n",
       "   review_scores_communication  review_scores_location  review_scores_value  \\\n",
       "0                         4.79                    4.86                 4.41   \n",
       "1                         4.80                    4.71                 4.64   \n",
       "2                         5.00                    4.50                 5.00   \n",
       "3                         4.42                    4.87                 4.36   \n",
       "4                         4.95                    4.94                 4.92   \n",
       "\n",
       "  instant_bookable calculated_host_listings_count  \\\n",
       "0            False                              3   \n",
       "1            False                              1   \n",
       "2            False                              1   \n",
       "3            False                              1   \n",
       "4            False                              1   \n",
       "\n",
       "   calculated_host_listings_count_entire_homes  \\\n",
       "0                                            3   \n",
       "1                                            1   \n",
       "2                                            1   \n",
       "3                                            0   \n",
       "4                                            0   \n",
       "\n",
       "   calculated_host_listings_count_private_rooms  \\\n",
       "0                                             0   \n",
       "1                                             0   \n",
       "2                                             0   \n",
       "3                                             1   \n",
       "4                                             1   \n",
       "\n",
       "   calculated_host_listings_count_shared_rooms  reviews_per_month  \\\n",
       "0                                            0               0.33   \n",
       "1                                            0               4.86   \n",
       "2                                            0               0.02   \n",
       "3                                            0               3.68   \n",
       "4                                            0               0.87   \n",
       "\n",
       "  n_host_verifications  \n",
       "0                    9  \n",
       "1                    6  \n",
       "2                    3  \n",
       "3                    4  \n",
       "4                    7  \n",
       "\n",
       "[5 rows x 50 columns]"
      ]
     },
     "execution_count": 2,
     "metadata": {},
     "output_type": "execute_result"
    }
   ],
   "source": [
    "# File names of the four data sets\n",
    "adultDataSet_filename = os.path.join(os.getcwd(), \"data\", \"censusData.csv\")\n",
    "airbnbDataSet_filename = os.path.join(os.getcwd(), \"data\", \"airbnbListingsData.csv\")\n",
    "WHRDataSet_filename = os.path.join(os.getcwd(), \"data\", \"WHR2018Chapter2OnlineData.csv\")\n",
    "bookReviewDataSet_filename = os.path.join(os.getcwd(), \"data\", \"bookReviewsData.csv\")\n",
    "\n",
    "\n",
    "df = pd.read_csv(airbnbDataSet_filename) \n",
    "df.head()"
   ]
  },
  {
   "cell_type": "code",
   "execution_count": 3,
   "metadata": {},
   "outputs": [
    {
     "data": {
      "text/plain": [
       "['name',\n",
       " 'description',\n",
       " 'neighborhood_overview',\n",
       " 'host_name',\n",
       " 'host_location',\n",
       " 'host_about',\n",
       " 'host_response_rate',\n",
       " 'host_acceptance_rate',\n",
       " 'host_is_superhost',\n",
       " 'host_listings_count',\n",
       " 'host_total_listings_count',\n",
       " 'host_has_profile_pic',\n",
       " 'host_identity_verified',\n",
       " 'neighbourhood_group_cleansed',\n",
       " 'room_type',\n",
       " 'accommodates',\n",
       " 'bathrooms',\n",
       " 'bedrooms',\n",
       " 'beds',\n",
       " 'amenities',\n",
       " 'price',\n",
       " 'minimum_nights',\n",
       " 'maximum_nights',\n",
       " 'minimum_minimum_nights',\n",
       " 'maximum_minimum_nights',\n",
       " 'minimum_maximum_nights',\n",
       " 'maximum_maximum_nights',\n",
       " 'minimum_nights_avg_ntm',\n",
       " 'maximum_nights_avg_ntm',\n",
       " 'has_availability',\n",
       " 'availability_30',\n",
       " 'availability_60',\n",
       " 'availability_90',\n",
       " 'availability_365',\n",
       " 'number_of_reviews',\n",
       " 'number_of_reviews_ltm',\n",
       " 'number_of_reviews_l30d',\n",
       " 'review_scores_rating',\n",
       " 'review_scores_cleanliness',\n",
       " 'review_scores_checkin',\n",
       " 'review_scores_communication',\n",
       " 'review_scores_location',\n",
       " 'review_scores_value',\n",
       " 'instant_bookable',\n",
       " 'calculated_host_listings_count',\n",
       " 'calculated_host_listings_count_entire_homes',\n",
       " 'calculated_host_listings_count_private_rooms',\n",
       " 'calculated_host_listings_count_shared_rooms',\n",
       " 'reviews_per_month',\n",
       " 'n_host_verifications']"
      ]
     },
     "execution_count": 3,
     "metadata": {},
     "output_type": "execute_result"
    }
   ],
   "source": [
    "list(df.columns)"
   ]
  },
  {
   "cell_type": "code",
   "execution_count": 4,
   "metadata": {},
   "outputs": [
    {
     "name": "stdout",
     "output_type": "stream",
     "text": [
      "Columns:  50 Rows:  28022\n"
     ]
    }
   ],
   "source": [
    "print(\"Columns: \", df.shape[1], \"Rows: \", df.shape[0])"
   ]
  },
  {
   "cell_type": "markdown",
   "metadata": {},
   "source": [
    "## Part 2: Define Your ML Problem\n",
    "\n",
    "Next you will formulate your ML Problem. In the markdown cell below, answer the following questions:\n",
    "\n",
    "1. List the data set you have chosen.\n",
    "2. What will you be predicting? What is the label?\n",
    "3. Is this a supervised or unsupervised learning problem? Is this a clustering, classification or regression problem? Is it a binary classificaiton or multi-class classifiction problem?\n",
    "4. What are your features? (note: this list may change after your explore your data)\n",
    "5. Explain why this is an important problem. In other words, how would a company create value with a model that predicts this label?"
   ]
  },
  {
   "cell_type": "markdown",
   "metadata": {},
   "source": [
    "<b>Dataset:</b> AirBnB Dataset\n",
    "\n",
    "<b>Problem Type:</b> Supervised, Regression Problem predicting the Host_Review_Score_Rating (label)\n",
    "\n",
    "<b>Features:</b> Host_is_superhost, host_response_rate\n",
    "\n",
    "<b>Importance:</b> Companies can reach out to host's with a predicted lower rating to provide better support, increasing user engagement metrics for the user.\n",
    "\n",
    "Predicting the review score of a host's Airbnb could serve a few purposes for a real estate company:\n",
    "<ul>\n",
    "    <li>low predicted scores can prompt company to investigate situation about host</li>\n",
    "    <ul></ul>\n",
    "    <li>high predicted scores can prompt company to seek advertisement opportunity with host</li>\n",
    "</ul>"
   ]
  },
  {
   "cell_type": "markdown",
   "metadata": {},
   "source": [
    "## Part 3: Understand Your Data\n",
    "\n",
    "The next step is to perform exploratory data analysis. Inspect and analyze your data set with your machine learning problem in mind. Consider the following as you inspect your data:\n",
    "\n",
    "1. What data preparation techniques would you like to use? These data preparation techniques may include:\n",
    "\n",
    "    * addressing missingness, such as replacing missing values with means\n",
    "    * finding and replacing outliers\n",
    "    * renaming features and labels\n",
    "    * finding and replacing outliers\n",
    "    * performing feature engineering techniques such as one-hot encoding on categorical features\n",
    "    * selecting appropriate features and removing irrelevant features\n",
    "    * performing specific data cleaning and preprocessing techniques for an NLP problem\n",
    "    * addressing class imbalance in your data sample to promote fair AI\n",
    "    \n",
    "\n",
    "2. What machine learning model (or models) you would like to use that is suitable for your predictive problem and data?\n",
    "    * Are there other data preparation techniques that you will need to apply to build a balanced modeling data set for your problem and model? For example, will you need to scale your data?\n",
    " \n",
    " \n",
    "3. How will you evaluate and improve the model's performance?\n",
    "    * Are there specific evaluation metrics and methods that are appropriate for your model?\n",
    "    \n",
    "\n",
    "Think of the different techniques you have used to inspect and analyze your data in this course. These include using Pandas to apply data filters, using the Pandas `describe()` method to get insight into key statistics for each column, using the Pandas `dtypes` property to inspect the data type of each column, and using Matplotlib and Seaborn to detect outliers and visualize relationships between features and labels. If you are working on a classification problem, use techniques you have learned to determine if there is class imbalance.\n",
    "\n",
    "<b>Task</b>: Use the techniques you have learned in this course to inspect and analyze your data. You can import additional packages that you have used in this course that you will need to perform this task.\n",
    "\n",
    "<b>Note</b>: You can add code cells if needed by going to the <b>Insert</b> menu and clicking on <b>Insert Cell Below</b> in the drop-drown menu."
   ]
  },
  {
   "cell_type": "markdown",
   "metadata": {},
   "source": [
    "## Data Preparation Plan\n",
    "\n",
    "<b>Initial Plan:</b>\n",
    "1. Replacing missing values with means\n",
    "2. Transforming string/binary data into numerical data\n",
    "3. Transforming label data into a simple data type (i.e float)\n",
    "4. Removal of low correlation labels (after analysis on whether said labels have an impact on the data)\n",
    "5. Re-evaluation of chosen features for bias \n",
    "\n",
    "This is are a few ideas that come to mind when it comes to this data set. <br> \n",
    "Catergorical features that would need one-hot encoding like room_type are likely \n",
    "irrelevant features <br> that will be removed from the dataset after the \n",
    "exploratory data analysis (EDA) phase.\n",
    "\n",
    "Evaluation metrics for this regression problem would be looking at the <br>\n",
    "Random Mean Squared Error and the $R^2$ values of the models."
   ]
  },
  {
   "cell_type": "markdown",
   "metadata": {},
   "source": [
    "## Exploratory Data Analysis (EDA) \n",
    "\n",
    "In the code cells below, the dataset will be analyzed for correlation between the label and features."
   ]
  },
  {
   "cell_type": "code",
   "execution_count": 5,
   "metadata": {},
   "outputs": [
    {
     "data": {
      "text/plain": [
       "count    28022.000000\n",
       "mean         4.683482\n",
       "std          0.505857\n",
       "min          0.000000\n",
       "25%          4.600000\n",
       "50%          4.830000\n",
       "75%          5.000000\n",
       "max          5.000000\n",
       "Name: review_scores_rating, dtype: float64"
      ]
     },
     "execution_count": 5,
     "metadata": {},
     "output_type": "execute_result"
    }
   ],
   "source": [
    "# Getting insight on the label; the label is an ordinal number\n",
    "df['review_scores_rating'].describe()"
   ]
  },
  {
   "cell_type": "code",
   "execution_count": 6,
   "metadata": {},
   "outputs": [
    {
     "data": {
      "text/plain": [
       "['name',\n",
       " 'description',\n",
       " 'neighborhood_overview',\n",
       " 'host_name',\n",
       " 'host_location',\n",
       " 'host_about',\n",
       " 'neighbourhood_group_cleansed',\n",
       " 'room_type',\n",
       " 'amenities']"
      ]
     },
     "execution_count": 6,
     "metadata": {},
     "output_type": "execute_result"
    }
   ],
   "source": [
    "# Gathering data types of the dataset\n",
    "col_obj = list(df.select_dtypes(include=['object']).columns)\n",
    "col_float = list(df.select_dtypes(include=['float']).columns)\n",
    "col_bool = list(df.select_dtypes(include=['bool']).columns)\n",
    "\n",
    "col_obj"
   ]
  },
  {
   "cell_type": "code",
   "execution_count": 7,
   "metadata": {},
   "outputs": [
    {
     "data": {
      "text/plain": [
       "['host_response_rate',\n",
       " 'host_acceptance_rate',\n",
       " 'host_listings_count',\n",
       " 'host_total_listings_count',\n",
       " 'bathrooms',\n",
       " 'bedrooms',\n",
       " 'beds',\n",
       " 'price',\n",
       " 'minimum_minimum_nights',\n",
       " 'maximum_minimum_nights',\n",
       " 'minimum_maximum_nights',\n",
       " 'maximum_maximum_nights',\n",
       " 'minimum_nights_avg_ntm',\n",
       " 'maximum_nights_avg_ntm',\n",
       " 'review_scores_rating',\n",
       " 'review_scores_cleanliness',\n",
       " 'review_scores_checkin',\n",
       " 'review_scores_communication',\n",
       " 'review_scores_location',\n",
       " 'review_scores_value',\n",
       " 'reviews_per_month']"
      ]
     },
     "execution_count": 7,
     "metadata": {},
     "output_type": "execute_result"
    }
   ],
   "source": [
    "col_float"
   ]
  },
  {
   "cell_type": "code",
   "execution_count": 8,
   "metadata": {},
   "outputs": [
    {
     "data": {
      "text/plain": [
       "['host_is_superhost',\n",
       " 'host_has_profile_pic',\n",
       " 'host_identity_verified',\n",
       " 'has_availability',\n",
       " 'instant_bookable']"
      ]
     },
     "execution_count": 8,
     "metadata": {},
     "output_type": "execute_result"
    }
   ],
   "source": [
    "col_bool"
   ]
  },
  {
   "cell_type": "markdown",
   "metadata": {},
   "source": [
    "<b>Notes about data from code cell below:</b>\n",
    "\n",
    "Spearman is used since the regression label is ordinal\n",
    "\n",
    "host_is_superhost is NaN since it is a boolean value\n",
    "- boolean values should be transformed into binary 0 and 1s in data prep to analyze their affect on the correlation\n",
    "\n",
    "host_response rate has little effect on score <br>\n",
    "while other review scores do have an effect\n",
    "\n",
    "review score value feature is vague... but has to do with\n",
    "users getting their money's worth for the AirBnB (potential bias?)"
   ]
  },
  {
   "cell_type": "code",
   "execution_count": 9,
   "metadata": {},
   "outputs": [
    {
     "data": {
      "text/plain": [
       "review_scores_rating                            1.000000\n",
       "review_scores_value                             0.692914\n",
       "review_scores_cleanliness                       0.671367\n",
       "review_scores_communication                     0.603329\n",
       "review_scores_checkin                           0.568603\n",
       "review_scores_location                          0.460670\n",
       "host_response_rate                              0.126367\n",
       "price                                           0.092826\n",
       "minimum_minimum_nights                          0.040564\n",
       "minimum_nights                                  0.037679\n",
       "minimum_nights_avg_ntm                          0.036654\n",
       "calculated_host_listings_count_entire_homes     0.033853\n",
       "maximum_minimum_nights                          0.031668\n",
       "n_host_verifications                            0.024166\n",
       "bedrooms                                        0.014501\n",
       "bathrooms                                       0.010585\n",
       "has_availability                               -0.005849\n",
       "number_of_reviews_l30d                         -0.009579\n",
       "host_acceptance_rate                           -0.016520\n",
       "maximum_nights                                 -0.018600\n",
       "accommodates                                   -0.018835\n",
       "beds                                           -0.026762\n",
       "minimum_maximum_nights                         -0.027747\n",
       "maximum_nights_avg_ntm                         -0.030889\n",
       "maximum_maximum_nights                         -0.033351\n",
       "calculated_host_listings_count_shared_rooms    -0.033899\n",
       "number_of_reviews_ltm                          -0.064143\n",
       "instant_bookable                               -0.084254\n",
       "availability_365                               -0.107086\n",
       "availability_90                                -0.114454\n",
       "availability_60                                -0.114904\n",
       "availability_30                                -0.114964\n",
       "calculated_host_listings_count_private_rooms   -0.115900\n",
       "reviews_per_month                              -0.121155\n",
       "calculated_host_listings_count                 -0.142698\n",
       "host_total_listings_count                      -0.161068\n",
       "host_listings_count                            -0.161068\n",
       "number_of_reviews                              -0.218000\n",
       "host_is_superhost                                    NaN\n",
       "host_has_profile_pic                                 NaN\n",
       "host_identity_verified                               NaN\n",
       "Name: review_scores_rating, dtype: float64"
      ]
     },
     "execution_count": 9,
     "metadata": {},
     "output_type": "execute_result"
    }
   ],
   "source": [
    "# Examining feature correlation with the label\n",
    "df.corr(method = 'spearman')['review_scores_rating'].sort_values(ascending=False)"
   ]
  },
  {
   "cell_type": "code",
   "execution_count": 10,
   "metadata": {},
   "outputs": [
    {
     "data": {
      "text/plain": [
       "review_scores_rating                            1.000000\n",
       "review_scores_value                             0.820631\n",
       "review_scores_cleanliness                       0.758213\n",
       "review_scores_communication                     0.727749\n",
       "review_scores_checkin                           0.688152\n",
       "review_scores_location                          0.574464\n",
       "host_response_rate                              0.121477\n",
       "number_of_reviews_l30d                          0.067435\n",
       "number_of_reviews                               0.067182\n",
       "n_host_verifications                            0.050888\n",
       "number_of_reviews_ltm                           0.045595\n",
       "price                                           0.045067\n",
       "reviews_per_month                               0.039317\n",
       "has_availability                                0.030396\n",
       "host_acceptance_rate                            0.012542\n",
       "bedrooms                                        0.011528\n",
       "accommodates                                    0.007798\n",
       "beds                                            0.000233\n",
       "bathrooms                                      -0.002080\n",
       "minimum_maximum_nights                         -0.005249\n",
       "calculated_host_listings_count_entire_homes    -0.006858\n",
       "maximum_nights_avg_ntm                         -0.009140\n",
       "maximum_nights                                 -0.012175\n",
       "maximum_maximum_nights                         -0.015691\n",
       "calculated_host_listings_count_shared_rooms    -0.029324\n",
       "maximum_minimum_nights                         -0.032373\n",
       "minimum_nights_avg_ntm                         -0.032653\n",
       "host_total_listings_count                      -0.033200\n",
       "host_listings_count                            -0.033200\n",
       "minimum_nights                                 -0.034514\n",
       "minimum_minimum_nights                         -0.042011\n",
       "instant_bookable                               -0.058469\n",
       "calculated_host_listings_count                 -0.066378\n",
       "availability_365                               -0.080430\n",
       "availability_90                                -0.092216\n",
       "calculated_host_listings_count_private_rooms   -0.107384\n",
       "availability_60                                -0.108681\n",
       "availability_30                                -0.130953\n",
       "host_is_superhost                                    NaN\n",
       "host_has_profile_pic                                 NaN\n",
       "host_identity_verified                               NaN\n",
       "Name: review_scores_rating, dtype: float64"
      ]
     },
     "execution_count": 10,
     "metadata": {},
     "output_type": "execute_result"
    }
   ],
   "source": [
    "# Double checking features with the pearson method \n",
    "df.corr()['review_scores_rating'].sort_values(ascending=False)"
   ]
  },
  {
   "cell_type": "code",
   "execution_count": 11,
   "metadata": {},
   "outputs": [
    {
     "name": "stdout",
     "output_type": "stream",
     "text": [
      "NaN values of name : 5\n",
      "NaN values of description : 570\n",
      "NaN values of neighborhood_overview : 9816\n",
      "NaN values of host_location : 60\n",
      "NaN values of host_about : 10945\n",
      "NaN values of host_response_rate : 11843\n",
      "NaN values of host_acceptance_rate : 11113\n",
      "NaN values of bedrooms : 2918\n",
      "NaN values of beds : 1354\n"
     ]
    }
   ],
   "source": [
    "nan_count = np.sum(df.isnull(), axis = 0)\n",
    "\n",
    "\n",
    "nan_detected = df.columns[nan_count != 0]\n",
    "nan_detected\n",
    "for col in nan_detected:\n",
    "    print(\"NaN values of\", col, \":\", nan_count[col]) # to be averaged or taken out"
   ]
  },
  {
   "cell_type": "code",
   "execution_count": 12,
   "metadata": {},
   "outputs": [
    {
     "data": {
      "text/plain": [
       "count    16179.000000\n",
       "mean         0.906901\n",
       "std          0.227282\n",
       "min          0.000000\n",
       "25%          0.940000\n",
       "50%          1.000000\n",
       "75%          1.000000\n",
       "max          1.000000\n",
       "Name: host_response_rate, dtype: float64"
      ]
     },
     "execution_count": 12,
     "metadata": {},
     "output_type": "execute_result"
    }
   ],
   "source": [
    "df['host_response_rate'].describe()"
   ]
  },
  {
   "cell_type": "code",
   "execution_count": 13,
   "metadata": {},
   "outputs": [
    {
     "data": {
      "text/plain": [
       "array([ True])"
      ]
     },
     "execution_count": 13,
     "metadata": {},
     "output_type": "execute_result"
    }
   ],
   "source": [
    "df['host_is_superhost'].unique()"
   ]
  },
  {
   "cell_type": "markdown",
   "metadata": {},
   "source": [
    "## Part 4: Define Your Project Plan\n",
    "\n",
    "Now that you understand your data, in the markdown cell below, define your plan to implement the remaining phases of the machine learning life cycle (data preparation, modeling, evaluation) to solve your ML problem. Answer the following questions:\n",
    "\n",
    "* Do you have a new feature list? If so, what are the features that you chose to keep and remove after inspecting the data? \n",
    "* Explain different data preparation techniques that you will use to prepare your data for modeling.\n",
    "* What is your model (or models)?\n",
    "* Describe your plan to train your model, analyze its performance and then improve the model. That is, describe your model building, validation and selection plan to produce a model that generalizes well to new data. "
   ]
  },
  {
   "cell_type": "markdown",
   "metadata": {},
   "source": [
    "## Data Preparation\n",
    "\n",
    "<b>Post EDA Plan:</b>\n",
    "1. Replacing missing values with means\n",
    "2. Transforming string/binary data into numerical data\n",
    "3. Removal of low correlation labels (ex: availablity, minimum nights)\n",
    "4. Re-evaluation of chosen features for bias \n",
    "\n",
    "Chosen features: review_scores_X, host_response_rate, price <br>\n",
    "Potential feature removal: review_scores_value & review_scores_location\n",
    "\n",
    "review_scores_value & review_scores_location have potential for bias \n",
    "- review_score_value is vague on the AirBnB website, which can create <br> \n",
    "  reviews that are more subjective (i.e what does a reviewer interpret value to mean)\n",
    "- Disruptive noise in the area or high volume traffic leading to area are <br> factors that\n",
    "can lead to poor review scores which the owner of the AirBnB has no control over\n",
    "\n",
    "\n",
    "## Modeling, Training and Metrics\n",
    "\n",
    "After conducting EDA, appropriate models to explore this supervised, regression problem are:\n",
    "1. Linear Regression\n",
    "2. Decision Tree\n",
    "3. Random Forrest\n",
    "\n",
    "<b>Training Plan:</b>\n",
    "Split the Data into 20/20/60 split\n",
    "- 60% allocated for training\n",
    "- 20% allocated for validation\n",
    "- 20% allocated for testing \n",
    "\n",
    "Good/Satisfactory Accuracy: 80 to 70% range <br>\n",
    "Concerning Accuracy: 100 to 90% range, below 70% <br>\n",
    "1. <b> 100 to 90% Range:</b>\n",
    "   - Check for overfitting\n",
    "   - Adjust hyperparameters\n",
    "2. <b> Below 70% range:</b>\n",
    "   - Check for underfitting"
   ]
  },
  {
   "cell_type": "markdown",
   "metadata": {},
   "source": [
    "## Part 5: Implement Your Project Plan\n",
    "\n",
    "<b>Task:</b> In the code cell below, import additional packages that you have used in this course that you will need to implement your project plan."
   ]
  },
  {
   "cell_type": "code",
   "execution_count": 14,
   "metadata": {},
   "outputs": [],
   "source": [
    "# YOUR CODE HERE\n",
    "import scipy.stats as stats # helps handles outliers in data\n",
    "\n",
    "from sklearn.model_selection import train_test_split, cross_val_score, GridSearchCV\n",
    "from sklearn.ensemble import RandomForestRegressor\n",
    "from sklearn.tree import DecisionTreeRegressor\n",
    "from sklearn.linear_model import LinearRegression\n",
    "from sklearn.metrics import mean_squared_error, r2_score"
   ]
  },
  {
   "cell_type": "markdown",
   "metadata": {},
   "source": [
    "<b>Task:</b> Use the rest of this notebook to carry out your project plan. \n",
    "\n",
    "You will:\n",
    "\n",
    "1. Prepare your data for your model.\n",
    "2. Fit your model to the training data and evaluate your model.\n",
    "3. Improve your model's performance by performing model selection and/or feature selection techniques to find best model for your problem.\n",
    "\n",
    "Add code cells below and populate the notebook with commentary, code, analyses, results, and figures as you see fit. "
   ]
  },
  {
   "cell_type": "markdown",
   "metadata": {},
   "source": [
    "## Feature Engineering"
   ]
  },
  {
   "cell_type": "markdown",
   "metadata": {},
   "source": [
    "First step: Data Transformation\n",
    "\n",
    "This step will turn features into more reasonable data types for the problem.\n",
    "\n",
    "Example: turning the boolean 'host_is_superhost' feature into a numeric feature\n"
   ]
  },
  {
   "cell_type": "code",
   "execution_count": 15,
   "metadata": {},
   "outputs": [
    {
     "data": {
      "text/html": [
       "<div>\n",
       "<style scoped>\n",
       "    .dataframe tbody tr th:only-of-type {\n",
       "        vertical-align: middle;\n",
       "    }\n",
       "\n",
       "    .dataframe tbody tr th {\n",
       "        vertical-align: top;\n",
       "    }\n",
       "\n",
       "    .dataframe thead th {\n",
       "        text-align: right;\n",
       "    }\n",
       "</style>\n",
       "<table border=\"1\" class=\"dataframe\">\n",
       "  <thead>\n",
       "    <tr style=\"text-align: right;\">\n",
       "      <th></th>\n",
       "      <th>host_is_superhost</th>\n",
       "      <th>host_has_profile_pic</th>\n",
       "      <th>host_identity_verified</th>\n",
       "      <th>has_availability</th>\n",
       "      <th>instant_bookable</th>\n",
       "    </tr>\n",
       "  </thead>\n",
       "  <tbody>\n",
       "    <tr>\n",
       "      <th>0</th>\n",
       "      <td>1</td>\n",
       "      <td>1</td>\n",
       "      <td>1</td>\n",
       "      <td>1</td>\n",
       "      <td>0</td>\n",
       "    </tr>\n",
       "    <tr>\n",
       "      <th>1</th>\n",
       "      <td>1</td>\n",
       "      <td>1</td>\n",
       "      <td>1</td>\n",
       "      <td>1</td>\n",
       "      <td>0</td>\n",
       "    </tr>\n",
       "    <tr>\n",
       "      <th>2</th>\n",
       "      <td>1</td>\n",
       "      <td>1</td>\n",
       "      <td>1</td>\n",
       "      <td>1</td>\n",
       "      <td>0</td>\n",
       "    </tr>\n",
       "    <tr>\n",
       "      <th>3</th>\n",
       "      <td>1</td>\n",
       "      <td>1</td>\n",
       "      <td>1</td>\n",
       "      <td>1</td>\n",
       "      <td>0</td>\n",
       "    </tr>\n",
       "    <tr>\n",
       "      <th>4</th>\n",
       "      <td>1</td>\n",
       "      <td>1</td>\n",
       "      <td>1</td>\n",
       "      <td>1</td>\n",
       "      <td>0</td>\n",
       "    </tr>\n",
       "    <tr>\n",
       "      <th>...</th>\n",
       "      <td>...</td>\n",
       "      <td>...</td>\n",
       "      <td>...</td>\n",
       "      <td>...</td>\n",
       "      <td>...</td>\n",
       "    </tr>\n",
       "    <tr>\n",
       "      <th>28017</th>\n",
       "      <td>1</td>\n",
       "      <td>1</td>\n",
       "      <td>1</td>\n",
       "      <td>1</td>\n",
       "      <td>1</td>\n",
       "    </tr>\n",
       "    <tr>\n",
       "      <th>28018</th>\n",
       "      <td>1</td>\n",
       "      <td>1</td>\n",
       "      <td>1</td>\n",
       "      <td>1</td>\n",
       "      <td>0</td>\n",
       "    </tr>\n",
       "    <tr>\n",
       "      <th>28019</th>\n",
       "      <td>1</td>\n",
       "      <td>1</td>\n",
       "      <td>1</td>\n",
       "      <td>1</td>\n",
       "      <td>1</td>\n",
       "    </tr>\n",
       "    <tr>\n",
       "      <th>28020</th>\n",
       "      <td>1</td>\n",
       "      <td>1</td>\n",
       "      <td>1</td>\n",
       "      <td>1</td>\n",
       "      <td>0</td>\n",
       "    </tr>\n",
       "    <tr>\n",
       "      <th>28021</th>\n",
       "      <td>1</td>\n",
       "      <td>1</td>\n",
       "      <td>1</td>\n",
       "      <td>1</td>\n",
       "      <td>1</td>\n",
       "    </tr>\n",
       "  </tbody>\n",
       "</table>\n",
       "<p>28022 rows × 5 columns</p>\n",
       "</div>"
      ],
      "text/plain": [
       "       host_is_superhost  host_has_profile_pic  host_identity_verified  \\\n",
       "0                      1                     1                       1   \n",
       "1                      1                     1                       1   \n",
       "2                      1                     1                       1   \n",
       "3                      1                     1                       1   \n",
       "4                      1                     1                       1   \n",
       "...                  ...                   ...                     ...   \n",
       "28017                  1                     1                       1   \n",
       "28018                  1                     1                       1   \n",
       "28019                  1                     1                       1   \n",
       "28020                  1                     1                       1   \n",
       "28021                  1                     1                       1   \n",
       "\n",
       "       has_availability  instant_bookable  \n",
       "0                     1                 0  \n",
       "1                     1                 0  \n",
       "2                     1                 0  \n",
       "3                     1                 0  \n",
       "4                     1                 0  \n",
       "...                 ...               ...  \n",
       "28017                 1                 1  \n",
       "28018                 1                 0  \n",
       "28019                 1                 1  \n",
       "28020                 1                 0  \n",
       "28021                 1                 1  \n",
       "\n",
       "[28022 rows x 5 columns]"
      ]
     },
     "execution_count": 15,
     "metadata": {},
     "output_type": "execute_result"
    }
   ],
   "source": [
    "for col in col_bool:\n",
    "    df[col] = df[col].replace({True: 1, False: 0})\n",
    "\n",
    "df[col_bool]"
   ]
  },
  {
   "cell_type": "code",
   "execution_count": 16,
   "metadata": {},
   "outputs": [],
   "source": [
    "# Handling outliers in price data\n",
    "df['price-w'] = stats.mstats.winsorize(df['price'], limits=[0.01,0.01])"
   ]
  },
  {
   "cell_type": "markdown",
   "metadata": {},
   "source": [
    "Second Step: Addressing Missing Values\n",
    "\n",
    "This step handles NaN values found in the feature columns.\n",
    "\n",
    "For example, 'host_response_rate' is missing around a 1000 values.\n",
    "\n",
    "Since this will be a relevant feature, it will need to be\n",
    "filled with the mean value."
   ]
  },
  {
   "cell_type": "code",
   "execution_count": 17,
   "metadata": {},
   "outputs": [
    {
     "data": {
      "text/plain": [
       "Index(['name', 'description', 'neighborhood_overview', 'host_location',\n",
       "       'host_about', 'host_response_rate', 'host_acceptance_rate', 'bedrooms',\n",
       "       'beds'],\n",
       "      dtype='object')"
      ]
     },
     "execution_count": 17,
     "metadata": {},
     "output_type": "execute_result"
    }
   ],
   "source": [
    "nan_detected"
   ]
  },
  {
   "cell_type": "code",
   "execution_count": 18,
   "metadata": {},
   "outputs": [],
   "source": [
    "# Filling the NaN values of host_response_rate with the mean\n",
    "df['host_response_rate'].fillna(value= round(df['host_response_rate'].mean(), 2), inplace= True)"
   ]
  },
  {
   "cell_type": "markdown",
   "metadata": {},
   "source": [
    "Third Step: Removing Irrelevant Features\n",
    "\n",
    "This step removes low correlation features from the dataset.\n",
    "This helps with improving model performance and the run time of \n",
    "this notebook. "
   ]
  },
  {
   "cell_type": "code",
   "execution_count": 19,
   "metadata": {},
   "outputs": [],
   "source": [
    "# Removing strings\n",
    "df.drop(columns=col_obj, inplace=True)"
   ]
  },
  {
   "cell_type": "code",
   "execution_count": 20,
   "metadata": {},
   "outputs": [
    {
     "data": {
      "text/plain": [
       "review_scores_rating                            1.000000\n",
       "review_scores_value                             0.692914\n",
       "review_scores_cleanliness                       0.671367\n",
       "review_scores_communication                     0.603329\n",
       "review_scores_checkin                           0.568603\n",
       "review_scores_location                          0.460670\n",
       "price                                           0.092826\n",
       "price-w                                         0.092816\n",
       "minimum_minimum_nights                          0.040564\n",
       "minimum_nights                                  0.037679\n",
       "host_response_rate                              0.037414\n",
       "minimum_nights_avg_ntm                          0.036654\n",
       "calculated_host_listings_count_entire_homes     0.033853\n",
       "maximum_minimum_nights                          0.031668\n",
       "n_host_verifications                            0.024166\n",
       "bedrooms                                        0.014501\n",
       "bathrooms                                       0.010585\n",
       "has_availability                               -0.005849\n",
       "number_of_reviews_l30d                         -0.009579\n",
       "host_acceptance_rate                           -0.016520\n",
       "maximum_nights                                 -0.018600\n",
       "accommodates                                   -0.018835\n",
       "beds                                           -0.026762\n",
       "minimum_maximum_nights                         -0.027747\n",
       "maximum_nights_avg_ntm                         -0.030889\n",
       "maximum_maximum_nights                         -0.033351\n",
       "calculated_host_listings_count_shared_rooms    -0.033899\n",
       "number_of_reviews_ltm                          -0.064143\n",
       "instant_bookable                               -0.084254\n",
       "availability_365                               -0.107086\n",
       "availability_90                                -0.114454\n",
       "availability_60                                -0.114904\n",
       "availability_30                                -0.114964\n",
       "calculated_host_listings_count_private_rooms   -0.115900\n",
       "reviews_per_month                              -0.121155\n",
       "calculated_host_listings_count                 -0.142698\n",
       "host_total_listings_count                      -0.161068\n",
       "host_listings_count                            -0.161068\n",
       "number_of_reviews                              -0.218000\n",
       "host_is_superhost                                    NaN\n",
       "host_has_profile_pic                                 NaN\n",
       "host_identity_verified                               NaN\n",
       "Name: review_scores_rating, dtype: float64"
      ]
     },
     "execution_count": 20,
     "metadata": {},
     "output_type": "execute_result"
    }
   ],
   "source": [
    "df.corr(method= 'spearman')['review_scores_rating'].sort_values(ascending=False)"
   ]
  },
  {
   "cell_type": "code",
   "execution_count": 21,
   "metadata": {},
   "outputs": [],
   "source": [
    "df_corr = df[['review_scores_rating', 'review_scores_value', 'review_scores_cleanliness', 'review_scores_communication','review_scores_checkin', 'review_scores_location','host_response_rate','price-w']].copy()"
   ]
  },
  {
   "cell_type": "code",
   "execution_count": 22,
   "metadata": {},
   "outputs": [
    {
     "data": {
      "text/html": [
       "<div>\n",
       "<style scoped>\n",
       "    .dataframe tbody tr th:only-of-type {\n",
       "        vertical-align: middle;\n",
       "    }\n",
       "\n",
       "    .dataframe tbody tr th {\n",
       "        vertical-align: top;\n",
       "    }\n",
       "\n",
       "    .dataframe thead th {\n",
       "        text-align: right;\n",
       "    }\n",
       "</style>\n",
       "<table border=\"1\" class=\"dataframe\">\n",
       "  <thead>\n",
       "    <tr style=\"text-align: right;\">\n",
       "      <th></th>\n",
       "      <th>review_scores_rating</th>\n",
       "      <th>review_scores_value</th>\n",
       "      <th>review_scores_cleanliness</th>\n",
       "      <th>review_scores_communication</th>\n",
       "      <th>review_scores_checkin</th>\n",
       "      <th>review_scores_location</th>\n",
       "      <th>host_response_rate</th>\n",
       "      <th>price-w</th>\n",
       "    </tr>\n",
       "  </thead>\n",
       "  <tbody>\n",
       "    <tr>\n",
       "      <th>0</th>\n",
       "      <td>4.70</td>\n",
       "      <td>4.41</td>\n",
       "      <td>4.62</td>\n",
       "      <td>4.79</td>\n",
       "      <td>4.76</td>\n",
       "      <td>4.86</td>\n",
       "      <td>0.80</td>\n",
       "      <td>150.0</td>\n",
       "    </tr>\n",
       "    <tr>\n",
       "      <th>1</th>\n",
       "      <td>4.45</td>\n",
       "      <td>4.64</td>\n",
       "      <td>4.49</td>\n",
       "      <td>4.80</td>\n",
       "      <td>4.78</td>\n",
       "      <td>4.71</td>\n",
       "      <td>0.09</td>\n",
       "      <td>75.0</td>\n",
       "    </tr>\n",
       "    <tr>\n",
       "      <th>2</th>\n",
       "      <td>5.00</td>\n",
       "      <td>5.00</td>\n",
       "      <td>5.00</td>\n",
       "      <td>5.00</td>\n",
       "      <td>5.00</td>\n",
       "      <td>4.50</td>\n",
       "      <td>1.00</td>\n",
       "      <td>275.0</td>\n",
       "    </tr>\n",
       "    <tr>\n",
       "      <th>3</th>\n",
       "      <td>4.21</td>\n",
       "      <td>4.36</td>\n",
       "      <td>3.73</td>\n",
       "      <td>4.42</td>\n",
       "      <td>4.66</td>\n",
       "      <td>4.87</td>\n",
       "      <td>1.00</td>\n",
       "      <td>68.0</td>\n",
       "    </tr>\n",
       "    <tr>\n",
       "      <th>4</th>\n",
       "      <td>4.91</td>\n",
       "      <td>4.92</td>\n",
       "      <td>4.82</td>\n",
       "      <td>4.95</td>\n",
       "      <td>4.97</td>\n",
       "      <td>4.94</td>\n",
       "      <td>0.91</td>\n",
       "      <td>75.0</td>\n",
       "    </tr>\n",
       "    <tr>\n",
       "      <th>...</th>\n",
       "      <td>...</td>\n",
       "      <td>...</td>\n",
       "      <td>...</td>\n",
       "      <td>...</td>\n",
       "      <td>...</td>\n",
       "      <td>...</td>\n",
       "      <td>...</td>\n",
       "      <td>...</td>\n",
       "    </tr>\n",
       "    <tr>\n",
       "      <th>28017</th>\n",
       "      <td>5.00</td>\n",
       "      <td>1.00</td>\n",
       "      <td>5.00</td>\n",
       "      <td>5.00</td>\n",
       "      <td>5.00</td>\n",
       "      <td>3.00</td>\n",
       "      <td>1.00</td>\n",
       "      <td>89.0</td>\n",
       "    </tr>\n",
       "    <tr>\n",
       "      <th>28018</th>\n",
       "      <td>5.00</td>\n",
       "      <td>5.00</td>\n",
       "      <td>5.00</td>\n",
       "      <td>5.00</td>\n",
       "      <td>5.00</td>\n",
       "      <td>5.00</td>\n",
       "      <td>0.91</td>\n",
       "      <td>899.0</td>\n",
       "    </tr>\n",
       "    <tr>\n",
       "      <th>28019</th>\n",
       "      <td>1.00</td>\n",
       "      <td>2.00</td>\n",
       "      <td>1.00</td>\n",
       "      <td>5.00</td>\n",
       "      <td>1.00</td>\n",
       "      <td>5.00</td>\n",
       "      <td>0.99</td>\n",
       "      <td>64.0</td>\n",
       "    </tr>\n",
       "    <tr>\n",
       "      <th>28020</th>\n",
       "      <td>5.00</td>\n",
       "      <td>5.00</td>\n",
       "      <td>5.00</td>\n",
       "      <td>5.00</td>\n",
       "      <td>5.00</td>\n",
       "      <td>5.00</td>\n",
       "      <td>0.90</td>\n",
       "      <td>84.0</td>\n",
       "    </tr>\n",
       "    <tr>\n",
       "      <th>28021</th>\n",
       "      <td>5.00</td>\n",
       "      <td>5.00</td>\n",
       "      <td>5.00</td>\n",
       "      <td>5.00</td>\n",
       "      <td>5.00</td>\n",
       "      <td>5.00</td>\n",
       "      <td>0.91</td>\n",
       "      <td>70.0</td>\n",
       "    </tr>\n",
       "  </tbody>\n",
       "</table>\n",
       "<p>28022 rows × 8 columns</p>\n",
       "</div>"
      ],
      "text/plain": [
       "       review_scores_rating  review_scores_value  review_scores_cleanliness  \\\n",
       "0                      4.70                 4.41                       4.62   \n",
       "1                      4.45                 4.64                       4.49   \n",
       "2                      5.00                 5.00                       5.00   \n",
       "3                      4.21                 4.36                       3.73   \n",
       "4                      4.91                 4.92                       4.82   \n",
       "...                     ...                  ...                        ...   \n",
       "28017                  5.00                 1.00                       5.00   \n",
       "28018                  5.00                 5.00                       5.00   \n",
       "28019                  1.00                 2.00                       1.00   \n",
       "28020                  5.00                 5.00                       5.00   \n",
       "28021                  5.00                 5.00                       5.00   \n",
       "\n",
       "       review_scores_communication  review_scores_checkin  \\\n",
       "0                             4.79                   4.76   \n",
       "1                             4.80                   4.78   \n",
       "2                             5.00                   5.00   \n",
       "3                             4.42                   4.66   \n",
       "4                             4.95                   4.97   \n",
       "...                            ...                    ...   \n",
       "28017                         5.00                   5.00   \n",
       "28018                         5.00                   5.00   \n",
       "28019                         5.00                   1.00   \n",
       "28020                         5.00                   5.00   \n",
       "28021                         5.00                   5.00   \n",
       "\n",
       "       review_scores_location  host_response_rate  price-w  \n",
       "0                        4.86                0.80    150.0  \n",
       "1                        4.71                0.09     75.0  \n",
       "2                        4.50                1.00    275.0  \n",
       "3                        4.87                1.00     68.0  \n",
       "4                        4.94                0.91     75.0  \n",
       "...                       ...                 ...      ...  \n",
       "28017                    3.00                1.00     89.0  \n",
       "28018                    5.00                0.91    899.0  \n",
       "28019                    5.00                0.99     64.0  \n",
       "28020                    5.00                0.90     84.0  \n",
       "28021                    5.00                0.91     70.0  \n",
       "\n",
       "[28022 rows x 8 columns]"
      ]
     },
     "execution_count": 22,
     "metadata": {},
     "output_type": "execute_result"
    }
   ],
   "source": [
    "df_corr"
   ]
  },
  {
   "cell_type": "markdown",
   "metadata": {},
   "source": [
    "Final Step: Quick Analysis Check\n",
    "\n",
    "Shown below is graph of the features correlation with the given label. \n",
    "\n",
    "This step is to ensure that the features picked will contribute to the model\n",
    "and an opportunity to any final adjustments."
   ]
  },
  {
   "cell_type": "code",
   "execution_count": 23,
   "metadata": {},
   "outputs": [
    {
     "data": {
      "text/plain": [
       "Text(0.5, 1.0, 'Feature Importance using Spearman Correlation Matrix Heatmap')"
      ]
     },
     "execution_count": 23,
     "metadata": {},
     "output_type": "execute_result"
    },
    {
     "data": {
      "image/png": "[encoded data removed]",
      "text/plain": [
       "<Figure size 640x480 with 2 Axes>"
      ]
     },
     "metadata": {},
     "output_type": "display_data"
    }
   ],
   "source": [
    "# Plotting correlation on a heatmap\n",
    "plt.figure()\n",
    "sns.heatmap(df_corr.corr(method='spearman'))\n",
    "plt.title('Feature Importance using Spearman Correlation Matrix Heatmap')"
   ]
  },
  {
   "cell_type": "code",
   "execution_count": 24,
   "metadata": {},
   "outputs": [
    {
     "data": {
      "text/plain": [
       "Text(0.5, 1.0, 'Feature Importance using Pearson Correlation Matrix Heatmap')"
      ]
     },
     "execution_count": 24,
     "metadata": {},
     "output_type": "execute_result"
    },
    {
     "data": {
      "image/png": "[encoded data removed]",
      "text/plain": [
       "<Figure size 640x480 with 2 Axes>"
      ]
     },
     "metadata": {},
     "output_type": "display_data"
    }
   ],
   "source": [
    "# Plotting correlation on a heatmap\n",
    "plt.figure()\n",
    "sns.heatmap(df_corr.corr())\n",
    "plt.title('Feature Importance using Pearson Correlation Matrix Heatmap')"
   ]
  },
  {
   "cell_type": "markdown",
   "metadata": {},
   "source": [
    "## Modeling"
   ]
  },
  {
   "cell_type": "markdown",
   "metadata": {},
   "source": [
    "This is where the modeling magic begins.\n",
    "\n",
    "But first, the let's create our label and features."
   ]
  },
  {
   "cell_type": "code",
   "execution_count": 25,
   "metadata": {},
   "outputs": [],
   "source": [
    "# Creating the label and feature\n",
    "y = df_corr['review_scores_rating'] # the label\n",
    "X = df_corr.drop(columns='review_scores_rating', axis = 1) # the features"
   ]
  },
  {
   "cell_type": "markdown",
   "metadata": {},
   "source": [
    "Next is splitting the data. The data is split 60/20/20; validation is used for testing."
   ]
  },
  {
   "cell_type": "code",
   "execution_count": 26,
   "metadata": {},
   "outputs": [],
   "source": [
    "X_train, X_test, y_train, y_test = train_test_split(X, y, test_size = 0.20, random_state = 1234) # 20% test data, 80% train + val data\n",
    "X_train, X_val, y_train, y_val = train_test_split(X_train, y_train, test_size = 0.25, random_state = 1234) # 0.25 x 0.80 = 20% of val data, 60% training data"
   ]
  },
  {
   "cell_type": "markdown",
   "metadata": {},
   "source": [
    "Below code cells verify that split was done correctly"
   ]
  },
  {
   "cell_type": "code",
   "execution_count": 27,
   "metadata": {},
   "outputs": [
    {
     "name": "stdout",
     "output_type": "stream",
     "text": [
      "(16812, 7)\n",
      "(5605, 7)\n",
      "(5605, 7)\n",
      "(16812,)\n",
      "(5605,)\n",
      "(5605,)\n"
     ]
    }
   ],
   "source": [
    "print(X_train.shape)\n",
    "print(X_val.shape)\n",
    "print(X_test.shape)\n",
    "\n",
    "print(y_train.shape)\n",
    "print(y_val.shape)\n",
    "print(y_test.shape)"
   ]
  },
  {
   "cell_type": "code",
   "execution_count": 28,
   "metadata": {},
   "outputs": [
    {
     "data": {
      "text/plain": [
       "6581     4.74\n",
       "18462    4.72\n",
       "19351    4.75\n",
       "26342    5.00\n",
       "7562     5.00\n",
       "Name: review_scores_rating, dtype: float64"
      ]
     },
     "execution_count": 28,
     "metadata": {},
     "output_type": "execute_result"
    }
   ],
   "source": [
    "y_val.head()"
   ]
  },
  {
   "cell_type": "code",
   "execution_count": 29,
   "metadata": {},
   "outputs": [
    {
     "data": {
      "text/plain": [
       "17758    4.85\n",
       "19492    5.00\n",
       "12485    4.81\n",
       "14553    4.80\n",
       "13532    4.78\n",
       "Name: review_scores_rating, dtype: float64"
      ]
     },
     "execution_count": 29,
     "metadata": {},
     "output_type": "execute_result"
    }
   ],
   "source": [
    "y_test.head()"
   ]
  },
  {
   "cell_type": "markdown",
   "metadata": {},
   "source": [
    "### Going Over Our Models\n",
    "\n",
    "This section will be training, testing, and evaluating the following models:\n",
    "1. Linear Regression\n",
    "2. Decision Tree Regression\n",
    "3. Random Forrest\n",
    "\n",
    "Based on the Random Mean Squared Error (RMSE) and $R^2$ metrics used for\n",
    "regression models.\n",
    "\n",
    "<b>Quick Overview of RMSE and $R^2$:</b>\n",
    "- RMSE is (averaged) difference between predicted and actual values; intuitively, this means <br> a low RMSE score indicates that actual and predicted are close!\n",
    "- $R^2$ measures the variablity of the prediction, or how well the model responds to the data; <br> high score indicates model is adapting well\n",
    "\n",
    "<b>Side Note:</b> This notebook will be updated to compare other regression models <br>\n",
    "unfortunately, I'm on a time crunch. "
   ]
  },
  {
   "cell_type": "markdown",
   "metadata": {},
   "source": [
    "### Train, Test, Evaluate Linear Regression Model"
   ]
  },
  {
   "cell_type": "code",
   "execution_count": 30,
   "metadata": {},
   "outputs": [
    {
     "data": {
      "text/plain": [
       "LinearRegression()"
      ]
     },
     "execution_count": 30,
     "metadata": {},
     "output_type": "execute_result"
    }
   ],
   "source": [
    "lr_model = LinearRegression()\n",
    "lr_model.fit(X_train, y_train)"
   ]
  },
  {
   "cell_type": "code",
   "execution_count": 31,
   "metadata": {},
   "outputs": [
    {
     "name": "stdout",
     "output_type": "stream",
     "text": [
      "[LR] Root Mean Squared Error (RMSE): 0.25145035589561326\n",
      "[LR] R2: 0.7440832715713495\n"
     ]
    }
   ],
   "source": [
    "# Using the fitted model to make predictions on the validation data\n",
    "y_lr_pred = lr_model.predict(X_val)\n",
    "\n",
    "# Computing the RMSE  and R2 \n",
    "lr_rmse = mean_squared_error(y_val, y_lr_pred, squared = False)\n",
    "\n",
    "lr_r2 = r2_score(y_val, y_lr_pred)\n",
    "\n",
    "print('[LR] Root Mean Squared Error (RMSE): {0}'.format(lr_rmse))\n",
    "print('[LR] R2: {0}'.format(lr_r2))"
   ]
  },
  {
   "cell_type": "code",
   "execution_count": 32,
   "metadata": {},
   "outputs": [
    {
     "name": "stdout",
     "output_type": "stream",
     "text": [
      "Model Summary:\n",
      "\n",
      "Intercept:\n",
      "alpha =  -0.17000072416030587\n",
      "\n",
      "Weights:\n",
      "w_ 1 =  0.4120219844970947  [ weight of  review_scores_value ]\n",
      "w_ 2 =  0.25929541999034045  [ weight of  review_scores_cleanliness ]\n",
      "w_ 3 =  0.2110768964773289  [ weight of  review_scores_communication ]\n",
      "w_ 4 =  0.11541523523203083  [ weight of  review_scores_checkin ]\n",
      "w_ 5 =  0.029195312513618038  [ weight of  review_scores_location ]\n",
      "w_ 6 =  0.020566477270947514  [ weight of  host_response_rate ]\n",
      "w_ 7 =  8.653032837491871e-05  [ weight of  price-w ]\n"
     ]
    }
   ],
   "source": [
    "# Furher insight on the Linear Regression Model\n",
    "print('Model Summary:\\n')\n",
    "\n",
    "# Print intercept (alpha)\n",
    "print('Intercept:')\n",
    "print('alpha = ' , lr_model.intercept_)\n",
    "\n",
    "# Print weights\n",
    "print('\\nWeights:')\n",
    "i = 0\n",
    "features = list(X.columns)\n",
    "for w in lr_model.coef_:\n",
    "    print('w_',i+1,'= ', w, ' [ weight of ', features[i],']')\n",
    "    i += 1"
   ]
  },
  {
   "cell_type": "markdown",
   "metadata": {},
   "source": [
    "### Train, Test, Evaluate Decision Tree Model"
   ]
  },
  {
   "cell_type": "markdown",
   "metadata": {},
   "source": [
    "Setting up a parameter grid to find the optimal parameters"
   ]
  },
  {
   "cell_type": "code",
   "execution_count": 33,
   "metadata": {},
   "outputs": [
    {
     "data": {
      "text/plain": [
       "{'max_depth': [4, 8, 16, 32], 'min_samples_leaf': [25, 50, 75, 100]}"
      ]
     },
     "execution_count": 33,
     "metadata": {},
     "output_type": "execute_result"
    }
   ],
   "source": [
    "param_grid = {\n",
    "    'max_depth': [4, 8, 16, 32],\n",
    "    'min_samples_leaf': [25, 50, 75, 100]\n",
    "}\n",
    "param_grid"
   ]
  },
  {
   "cell_type": "code",
   "execution_count": 34,
   "metadata": {},
   "outputs": [
    {
     "name": "stdout",
     "output_type": "stream",
     "text": [
      "Running Grid Search...\n"
     ]
    },
    {
     "name": "stdout",
     "output_type": "stream",
     "text": [
      "Done\n"
     ]
    }
   ],
   "source": [
    "print('Running Grid Search...')\n",
    "\n",
    "# Creating a DecisionTreeRegressor model obj \n",
    "dt_regressor = DecisionTreeRegressor()\n",
    "\n",
    "# Running a Grid Search with 3-fold cross-validation\n",
    "dt_grid = GridSearchCV(dt_regressor, param_grid, cv = 3, scoring='neg_root_mean_squared_error')\n",
    "\n",
    "# Fitting the model on the training data \n",
    "dt_grid_search = dt_grid.fit(X_train, y_train)\n",
    "\n",
    "print('Done')"
   ]
  },
  {
   "cell_type": "code",
   "execution_count": 35,
   "metadata": {},
   "outputs": [
    {
     "name": "stdout",
     "output_type": "stream",
     "text": [
      "[DT] RMSE for the best model is : 0.24\n",
      "{'max_depth': 16, 'min_samples_leaf': 25}\n"
     ]
    }
   ],
   "source": [
    "rmse_DT = -1 * dt_grid_search.best_score_\n",
    "print(\"[DT] RMSE for the best model is : {:.2f}\".format(rmse_DT) )\n",
    "\n",
    "dt_best_params = {\n",
    "    'max_depth': dt_grid_search.best_params_['max_depth'],\n",
    "    'min_samples_leaf': dt_grid_search.best_params_['min_samples_leaf']\n",
    "}\n",
    "\n",
    "print(dt_best_params)"
   ]
  },
  {
   "cell_type": "code",
   "execution_count": 36,
   "metadata": {},
   "outputs": [
    {
     "data": {
      "text/plain": [
       "DecisionTreeRegressor(max_depth=16, min_samples_leaf=25)"
      ]
     },
     "execution_count": 36,
     "metadata": {},
     "output_type": "execute_result"
    }
   ],
   "source": [
    "dt_model = DecisionTreeRegressor(max_depth = dt_best_params['max_depth'], min_samples_leaf = dt_best_params['min_samples_leaf'])\n",
    "dt_model.fit(X_train, y_train)"
   ]
  },
  {
   "cell_type": "code",
   "execution_count": 37,
   "metadata": {},
   "outputs": [
    {
     "name": "stdout",
     "output_type": "stream",
     "text": [
      "[DT] Root Mean Squared Error: 0.2598396925074832\n",
      "[DT] R2: 0.7267216963611867\n"
     ]
    }
   ],
   "source": [
    "# Using the fitted model to make predictions on the validation data\n",
    "y_dt_pred = dt_model.predict(X_val)\n",
    "\n",
    "\n",
    "# Computing the RMSE and R2 \n",
    "dt_rmse = mean_squared_error(y_val, y_dt_pred, squared = False)\n",
    "\n",
    "dt_r2 = r2_score(y_val, y_dt_pred)\n",
    "\n",
    "print('[DT] Root Mean Squared Error: {0}'.format(dt_rmse))\n",
    "print('[DT] R2: {0}'.format(dt_r2))"
   ]
  },
  {
   "cell_type": "markdown",
   "metadata": {},
   "source": [
    "### Train, Test, Evaluate Random Forrest Model"
   ]
  },
  {
   "cell_type": "markdown",
   "metadata": {},
   "source": [
    "Performing Grid Search to find optimal paramaters; \n",
    "\n",
    "Code cell below is commented out since this step takes longer \n",
    "than a minute to run. <br> To save my burning laptop, a depth of 32 and n_estimators of 300 was chosen."
   ]
  },
  {
   "cell_type": "code",
   "execution_count": 38,
   "metadata": {},
   "outputs": [],
   "source": [
    "# param_grid2 = {\n",
    "#     'max_depth': [16, 32, 64],\n",
    "#     'n_estimators': [100, 200, 300]\n",
    "# }\n",
    "\n",
    "# print('Running Grid Search...')\n",
    "\n",
    "# # Creating a DecisionTreeRegressor model object \n",
    "# rf_regressor = RandomForestRegressor()\n",
    "\n",
    "# # Running a Grid Search with 3-fold cross-validation\n",
    "# rf_grid = GridSearchCV(rf_regressor, param_grid2, cv = 3, scoring='neg_root_mean_squared_error')\n",
    "\n",
    "# # Fitting the model on the training data \n",
    "# rf_grid_search = rf_grid.fit(X_train, y_train)\n",
    "\n",
    "# print('Done')"
   ]
  },
  {
   "cell_type": "markdown",
   "metadata": {},
   "source": [
    "After finding the best parameters using gridsearch"
   ]
  },
  {
   "cell_type": "code",
   "execution_count": 39,
   "metadata": {},
   "outputs": [
    {
     "name": "stdout",
     "output_type": "stream",
     "text": [
      "Begin RF Implementation...\n",
      "End\n"
     ]
    }
   ],
   "source": [
    "print('Begin RF Implementation...')\n",
    "\n",
    "rf_model = RandomForestRegressor(max_depth = 32, n_estimators = 300)\n",
    "rf_model.fit(X_train, y_train)\n",
    "\n",
    "print('End')"
   ]
  },
  {
   "cell_type": "code",
   "execution_count": 40,
   "metadata": {},
   "outputs": [
    {
     "name": "stdout",
     "output_type": "stream",
     "text": [
      "[RF] Root Mean Squared Error: 0.25122968921725236\n",
      "[RF] R2: 0.7445322469951189\n"
     ]
    }
   ],
   "source": [
    "# Using the fitted model to make predictions on the validation data\n",
    "y_rf_pred = rf_model.predict(X_val)\n",
    "\n",
    "\n",
    "# Computing the RMSE and R2 score\n",
    "rf_rmse = mean_squared_error(y_val, y_rf_pred, squared = False)\n",
    "\n",
    "rf_r2 = r2_score(y_val, y_rf_pred)\n",
    "\n",
    "print('[RF] Root Mean Squared Error: {0}'.format(rf_rmse))\n",
    "print('[RF] R2: {0}'.format(rf_r2))      "
   ]
  },
  {
   "cell_type": "markdown",
   "metadata": {},
   "source": [
    "## Comparing Model Performance with Visualization"
   ]
  },
  {
   "cell_type": "code",
   "execution_count": 41,
   "metadata": {},
   "outputs": [
    {
     "data": {
      "image/png": "[encoded data removed]",
      "text/plain": [
       "<Figure size 640x480 with 1 Axes>"
      ]
     },
     "metadata": {},
     "output_type": "display_data"
    }
   ],
   "source": [
    "RMSE_Results = [lr_rmse, dt_rmse, rf_rmse]\n",
    "R2_Results = [lr_r2, dt_r2, rf_r2]\n",
    "\n",
    "rg= np.arange(3)\n",
    "width = 0.35\n",
    "\n",
    "# Creating bar plot with RMSE and R2 results\n",
    "plt.bar(rg, RMSE_Results, width, label='RMSE')\n",
    "\n",
    "plt.bar(rg + width, R2_Results, width, label='R2')\n",
    "\n",
    "\n",
    "labels = ['LR', 'DT', 'RF']\n",
    "plt.xticks(rg + width/2, labels)\n",
    "\n",
    "plt.xlabel(\"Models\")\n",
    "plt.ylabel(\"RMSE/R2\")\n",
    "\n",
    "\n",
    "plt.ylim([0,1])\n",
    "plt.title('Model Performance')\n",
    "plt.legend(loc='upper left', ncol=2)\n",
    "plt.show()"
   ]
  },
  {
   "cell_type": "markdown",
   "metadata": {},
   "source": [
    "### Did Feature Engineering Make a Difference?\n",
    "\n",
    "As shown above, these models all have similar performances. \n",
    "\n",
    "To check see if feature tuning had an impact, a linear regression model will be trained <br>\n",
    "below on the original, modified dataFrame."
   ]
  },
  {
   "cell_type": "code",
   "execution_count": 42,
   "metadata": {},
   "outputs": [
    {
     "data": {
      "text/html": [
       "<div>\n",
       "<style scoped>\n",
       "    .dataframe tbody tr th:only-of-type {\n",
       "        vertical-align: middle;\n",
       "    }\n",
       "\n",
       "    .dataframe tbody tr th {\n",
       "        vertical-align: top;\n",
       "    }\n",
       "\n",
       "    .dataframe thead th {\n",
       "        text-align: right;\n",
       "    }\n",
       "</style>\n",
       "<table border=\"1\" class=\"dataframe\">\n",
       "  <thead>\n",
       "    <tr style=\"text-align: right;\">\n",
       "      <th></th>\n",
       "      <th>host_response_rate</th>\n",
       "      <th>host_acceptance_rate</th>\n",
       "      <th>host_is_superhost</th>\n",
       "      <th>host_listings_count</th>\n",
       "      <th>host_total_listings_count</th>\n",
       "      <th>host_has_profile_pic</th>\n",
       "      <th>host_identity_verified</th>\n",
       "      <th>accommodates</th>\n",
       "      <th>bathrooms</th>\n",
       "      <th>bedrooms</th>\n",
       "      <th>...</th>\n",
       "      <th>review_scores_location</th>\n",
       "      <th>review_scores_value</th>\n",
       "      <th>instant_bookable</th>\n",
       "      <th>calculated_host_listings_count</th>\n",
       "      <th>calculated_host_listings_count_entire_homes</th>\n",
       "      <th>calculated_host_listings_count_private_rooms</th>\n",
       "      <th>calculated_host_listings_count_shared_rooms</th>\n",
       "      <th>reviews_per_month</th>\n",
       "      <th>n_host_verifications</th>\n",
       "      <th>price-w</th>\n",
       "    </tr>\n",
       "  </thead>\n",
       "  <tbody>\n",
       "    <tr>\n",
       "      <th>0</th>\n",
       "      <td>0.80</td>\n",
       "      <td>0.17</td>\n",
       "      <td>1</td>\n",
       "      <td>8.0</td>\n",
       "      <td>8.0</td>\n",
       "      <td>1</td>\n",
       "      <td>1</td>\n",
       "      <td>1</td>\n",
       "      <td>1.0</td>\n",
       "      <td>NaN</td>\n",
       "      <td>...</td>\n",
       "      <td>4.86</td>\n",
       "      <td>4.41</td>\n",
       "      <td>0</td>\n",
       "      <td>3</td>\n",
       "      <td>3</td>\n",
       "      <td>0</td>\n",
       "      <td>0</td>\n",
       "      <td>0.33</td>\n",
       "      <td>9</td>\n",
       "      <td>150.0</td>\n",
       "    </tr>\n",
       "    <tr>\n",
       "      <th>1</th>\n",
       "      <td>0.09</td>\n",
       "      <td>0.69</td>\n",
       "      <td>1</td>\n",
       "      <td>1.0</td>\n",
       "      <td>1.0</td>\n",
       "      <td>1</td>\n",
       "      <td>1</td>\n",
       "      <td>3</td>\n",
       "      <td>1.0</td>\n",
       "      <td>1.0</td>\n",
       "      <td>...</td>\n",
       "      <td>4.71</td>\n",
       "      <td>4.64</td>\n",
       "      <td>0</td>\n",
       "      <td>1</td>\n",
       "      <td>1</td>\n",
       "      <td>0</td>\n",
       "      <td>0</td>\n",
       "      <td>4.86</td>\n",
       "      <td>6</td>\n",
       "      <td>75.0</td>\n",
       "    </tr>\n",
       "    <tr>\n",
       "      <th>2</th>\n",
       "      <td>1.00</td>\n",
       "      <td>0.25</td>\n",
       "      <td>1</td>\n",
       "      <td>1.0</td>\n",
       "      <td>1.0</td>\n",
       "      <td>1</td>\n",
       "      <td>1</td>\n",
       "      <td>4</td>\n",
       "      <td>1.5</td>\n",
       "      <td>2.0</td>\n",
       "      <td>...</td>\n",
       "      <td>4.50</td>\n",
       "      <td>5.00</td>\n",
       "      <td>0</td>\n",
       "      <td>1</td>\n",
       "      <td>1</td>\n",
       "      <td>0</td>\n",
       "      <td>0</td>\n",
       "      <td>0.02</td>\n",
       "      <td>3</td>\n",
       "      <td>275.0</td>\n",
       "    </tr>\n",
       "    <tr>\n",
       "      <th>3</th>\n",
       "      <td>1.00</td>\n",
       "      <td>1.00</td>\n",
       "      <td>1</td>\n",
       "      <td>1.0</td>\n",
       "      <td>1.0</td>\n",
       "      <td>1</td>\n",
       "      <td>1</td>\n",
       "      <td>2</td>\n",
       "      <td>1.0</td>\n",
       "      <td>1.0</td>\n",
       "      <td>...</td>\n",
       "      <td>4.87</td>\n",
       "      <td>4.36</td>\n",
       "      <td>0</td>\n",
       "      <td>1</td>\n",
       "      <td>0</td>\n",
       "      <td>1</td>\n",
       "      <td>0</td>\n",
       "      <td>3.68</td>\n",
       "      <td>4</td>\n",
       "      <td>68.0</td>\n",
       "    </tr>\n",
       "    <tr>\n",
       "      <th>4</th>\n",
       "      <td>0.91</td>\n",
       "      <td>NaN</td>\n",
       "      <td>1</td>\n",
       "      <td>1.0</td>\n",
       "      <td>1.0</td>\n",
       "      <td>1</td>\n",
       "      <td>1</td>\n",
       "      <td>1</td>\n",
       "      <td>1.0</td>\n",
       "      <td>1.0</td>\n",
       "      <td>...</td>\n",
       "      <td>4.94</td>\n",
       "      <td>4.92</td>\n",
       "      <td>0</td>\n",
       "      <td>1</td>\n",
       "      <td>0</td>\n",
       "      <td>1</td>\n",
       "      <td>0</td>\n",
       "      <td>0.87</td>\n",
       "      <td>7</td>\n",
       "      <td>75.0</td>\n",
       "    </tr>\n",
       "  </tbody>\n",
       "</table>\n",
       "<p>5 rows × 42 columns</p>\n",
       "</div>"
      ],
      "text/plain": [
       "   host_response_rate  host_acceptance_rate  host_is_superhost  \\\n",
       "0                0.80                  0.17                  1   \n",
       "1                0.09                  0.69                  1   \n",
       "2                1.00                  0.25                  1   \n",
       "3                1.00                  1.00                  1   \n",
       "4                0.91                   NaN                  1   \n",
       "\n",
       "   host_listings_count  host_total_listings_count  host_has_profile_pic  \\\n",
       "0                  8.0                        8.0                     1   \n",
       "1                  1.0                        1.0                     1   \n",
       "2                  1.0                        1.0                     1   \n",
       "3                  1.0                        1.0                     1   \n",
       "4                  1.0                        1.0                     1   \n",
       "\n",
       "   host_identity_verified  accommodates  bathrooms  bedrooms  ...  \\\n",
       "0                       1             1        1.0       NaN  ...   \n",
       "1                       1             3        1.0       1.0  ...   \n",
       "2                       1             4        1.5       2.0  ...   \n",
       "3                       1             2        1.0       1.0  ...   \n",
       "4                       1             1        1.0       1.0  ...   \n",
       "\n",
       "   review_scores_location  review_scores_value  instant_bookable  \\\n",
       "0                    4.86                 4.41                 0   \n",
       "1                    4.71                 4.64                 0   \n",
       "2                    4.50                 5.00                 0   \n",
       "3                    4.87                 4.36                 0   \n",
       "4                    4.94                 4.92                 0   \n",
       "\n",
       "   calculated_host_listings_count  \\\n",
       "0                               3   \n",
       "1                               1   \n",
       "2                               1   \n",
       "3                               1   \n",
       "4                               1   \n",
       "\n",
       "   calculated_host_listings_count_entire_homes  \\\n",
       "0                                            3   \n",
       "1                                            1   \n",
       "2                                            1   \n",
       "3                                            0   \n",
       "4                                            0   \n",
       "\n",
       "   calculated_host_listings_count_private_rooms  \\\n",
       "0                                             0   \n",
       "1                                             0   \n",
       "2                                             0   \n",
       "3                                             1   \n",
       "4                                             1   \n",
       "\n",
       "   calculated_host_listings_count_shared_rooms  reviews_per_month  \\\n",
       "0                                            0               0.33   \n",
       "1                                            0               4.86   \n",
       "2                                            0               0.02   \n",
       "3                                            0               3.68   \n",
       "4                                            0               0.87   \n",
       "\n",
       "   n_host_verifications  price-w  \n",
       "0                     9    150.0  \n",
       "1                     6     75.0  \n",
       "2                     3    275.0  \n",
       "3                     4     68.0  \n",
       "4                     7     75.0  \n",
       "\n",
       "[5 rows x 42 columns]"
      ]
     },
     "execution_count": 42,
     "metadata": {},
     "output_type": "execute_result"
    }
   ],
   "source": [
    "df.head()"
   ]
  },
  {
   "cell_type": "code",
   "execution_count": 44,
   "metadata": {},
   "outputs": [
    {
     "name": "stdout",
     "output_type": "stream",
     "text": [
      "NaN values of host_acceptance_rate : 11113\n",
      "NaN values of bedrooms : 2918\n",
      "NaN values of beds : 1354\n"
     ]
    }
   ],
   "source": [
    "## More data cleanup for whole dataset\n",
    "nan_count = np.sum(df.isnull(), axis = 0)\n",
    "\n",
    "\n",
    "nan_detected = df.columns[nan_count != 0]\n",
    "nan_detected\n",
    "for col in nan_detected:\n",
    "    print(\"NaN values of\", col, \":\", nan_count[col]) # to be averaged or taken out\n",
    "    # Filling the NaN values of host_response_rate with the mean\n",
    "    df[col].fillna(value= round(df[col].mean(), 2), inplace= True)"
   ]
  },
  {
   "cell_type": "code",
   "execution_count": 46,
   "metadata": {},
   "outputs": [
    {
     "name": "stdout",
     "output_type": "stream",
     "text": [
      "[LR] Root Mean Squared Error (RMSE): 0.25145035589561326\n",
      "[LR] R2: 0.7440832715713495\n"
     ]
    },
    {
     "data": {
      "image/png": "[encoded data removed]",
      "text/plain": [
       "<Figure size 640x480 with 1 Axes>"
      ]
     },
     "metadata": {},
     "output_type": "display_data"
    }
   ],
   "source": [
    "# Creating the label and feature\n",
    "label_y = df['review_scores_rating'] # the label\n",
    "feature_X = df.drop(columns='review_scores_rating', axis = 1) # the features\n",
    "\n",
    "# Splitting the data 60/40 \n",
    "X_train2, X_test2, y_train2, y_test2 = train_test_split(feature_X, label_y, test_size = 0.40, random_state = 1234)\n",
    "\n",
    "# Creating the Linear Regression Model\n",
    "lr_model2 = LinearRegression()\n",
    "lr_model2.fit(X_train2, y_train2)\n",
    "\n",
    "# Training the Model\n",
    "y_lr_pred2 = lr_model2.predict(X_test2)\n",
    "\n",
    "lr_rmse2 = mean_squared_error(y_test2, y_lr_pred2, squared = False)\n",
    "\n",
    "lr_r22 = r2_score(y_test2, y_lr_pred2)\n",
    "\n",
    "print('[LR] Root Mean Squared Error (RMSE): {0}'.format(lr_rmse))\n",
    "print('[LR] R2: {0}'.format(lr_r2))\n",
    "\n",
    "# Plotting results\n",
    "RMSE_Results = [lr_rmse2]\n",
    "R2_Results = [lr_r22]\n",
    "\n",
    "rg= np.arange(1)\n",
    "width = 0.35\n",
    "\n",
    "# 1. Create bar plot with RMSE and R2 results\n",
    "plt.bar(rg, RMSE_Results, width, label='RMSE')\n",
    "\n",
    "plt.bar(rg + width, R2_Results, width, label='R2')\n",
    "\n",
    "\n",
    "labels = ['LR']\n",
    "plt.xticks(rg + width/2, labels)\n",
    "\n",
    "plt.xlabel(\"Models\")\n",
    "plt.ylabel(\"RMSE/R2\")\n",
    "\n",
    "\n",
    "plt.ylim([0,1])\n",
    "plt.title('Model Performance')\n",
    "plt.legend(loc='upper left', ncol=2)\n",
    "plt.show()"
   ]
  },
  {
   "cell_type": "markdown",
   "metadata": {},
   "source": [
    "As seen above, the RMSE and $R^2$ scores are flipped for the Linear Regression model.\n",
    "\n",
    "Picking the right features for the model can certainly enhance model performance;\n",
    "<br> assuming this graph shown above was for a dataset picked for it's features...\n",
    "\n",
    "Some further techniques that can be used to evaluate/enhance the performance of the models are:\n",
    "  - Performing GridSearch Cross Validation on the Linear Regression model for the best hyperparameters\n",
    "    - finding the best C or max_iteration for example\n",
    "  - Performing GridSearch Cross Validatin on Random Forrest (or train multiple models if saving computation time is critical)\n",
    "\n",
    "Somethimes the above may not be enough, so other models to explore for this problem\n",
    "  - Stacking the models\n",
    "  - GBDT models\n"
   ]
  },
  {
   "cell_type": "markdown",
   "metadata": {},
   "source": [
    "## Final Thoughts\n",
    "\n",
    "This Jupyter Notebook highlights the importance of feature engineering\n",
    "in model performance, as seen by how the 3 models performed on the \n",
    "validation data. \n",
    "\n",
    "With that in mind, I would want to improve this Notebook in the following ways:\n",
    "1. Take the time to explore the model performance of other regression models\n",
    "2. Add more visualization of the data and results\n",
    "3. Use trained model on other AirBnB datasets to improve performance\n"
   ]
  },
  {
   "cell_type": "markdown",
   "metadata": {},
   "source": [
    "Saving the Linear Regression into a pickle file \n",
    "\n",
    "(Code cell may be modified if someone wishes to use the Random Forrest instead)"
   ]
  },
  {
   "cell_type": "code",
   "execution_count": 47,
   "metadata": {},
   "outputs": [],
   "source": [
    "import pickle as pk"
   ]
  },
  {
   "cell_type": "code",
   "execution_count": 48,
   "metadata": {},
   "outputs": [],
   "source": [
    "pickle_filename = \"AirBnBLinRegModel.pkl\"\n",
    "pk.dump(lr_model, open(pickle_filename, 'wb')) # replace lr_model with preferred model"
   ]
  },
  {
   "cell_type": "code",
   "execution_count": 49,
   "metadata": {},
   "outputs": [
    {
     "name": "stdout",
     "output_type": "stream",
     "text": [
      "[4.8332938  4.88370945 4.83007195 ... 4.52893495 4.35092224 4.93265102]\n"
     ]
    }
   ],
   "source": [
    "# Testing that pickle worked\n",
    "persistent_model = pk.load(open(pickle_filename, 'rb'))\n",
    "modelPrediction = persistent_model.predict(X_test)\n",
    "print(modelPrediction)"
   ]
  }
 ],
 "metadata": {
  "kernelspec": {
   "display_name": "Python 3 (ipykernel)",
   "language": "python",
   "name": "python3"
  },
  "language_info": {
   "codemirror_mode": {
    "name": "ipython",
    "version": 3
   },
   "file_extension": ".py",
   "mimetype": "text/x-python",
   "name": "python",
   "nbconvert_exporter": "python",
   "pygments_lexer": "ipython3",
   "version": "3.7.2"
  },
  "toc": {
   "base_numbering": 1,
   "nav_menu": {},
   "number_sections": false,
   "sideBar": true,
   "skip_h1_title": false,
   "title_cell": "Table of Contents",
   "title_sidebar": "Contents",
   "toc_cell": false,
   "toc_position": {},
   "toc_section_display": true,
   "toc_window_display": false
  },
  "varInspector": {
   "cols": {
    "lenName": 16,
    "lenType": 16,
    "lenVar": 40
   },
   "kernels_config": {
    "python": {
     "delete_cmd_postfix": "",
     "delete_cmd_prefix": "del ",
     "library": "var_list.py",
     "varRefreshCmd": "print(var_dic_list())"
    },
    "r": {
     "delete_cmd_postfix": ") ",
     "delete_cmd_prefix": "rm(",
     "library": "var_list.r",
     "varRefreshCmd": "cat(var_dic_list()) "
    }
   },
   "types_to_exclude": [
    "module",
    "function",
    "builtin_function_or_method",
    "instance",
    "_Feature"
   ],
   "window_display": false
  }
 },
 "nbformat": 4,
 "nbformat_minor": 4
}
